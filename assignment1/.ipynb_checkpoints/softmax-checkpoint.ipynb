{
 "cells": [
  {
   "cell_type": "markdown",
   "metadata": {},
   "source": [
    "# Softmax exercise\n",
    "\n",
    "*Complete and hand in this completed worksheet (including its outputs and any supporting code outside of the worksheet) with your assignment submission. For more details see the [assignments page](http://vision.stanford.edu/teaching/cs231n/assignments.html) on the course website.*\n",
    "\n",
    "This exercise is analogous to the SVM exercise. You will:\n",
    "\n",
    "- implement a fully-vectorized **loss function** for the Softmax classifier\n",
    "- implement the fully-vectorized expression for its **analytic gradient**\n",
    "- **check your implementation** with numerical gradient\n",
    "- use a validation set to **tune the learning rate and regularization** strength\n",
    "- **optimize** the loss function with **SGD**\n",
    "- **visualize** the final learned weights\n"
   ]
  },
  {
   "cell_type": "code",
   "execution_count": 1,
   "metadata": {},
   "outputs": [],
   "source": [
    "import random\n",
    "import numpy as np\n",
    "from cs231n.data_utils import load_CIFAR10\n",
    "import matplotlib.pyplot as plt\n",
    "\n",
    "from __future__ import print_function\n",
    "\n",
    "%matplotlib inline\n",
    "plt.rcParams['figure.figsize'] = (10.0, 8.0) # set default size of plots\n",
    "plt.rcParams['image.interpolation'] = 'nearest'\n",
    "plt.rcParams['image.cmap'] = 'gray'\n",
    "\n",
    "# for auto-reloading extenrnal modules\n",
    "# see http://stackoverflow.com/questions/1907993/autoreload-of-modules-in-ipython\n",
    "%load_ext autoreload\n",
    "%autoreload 2"
   ]
  },
  {
   "cell_type": "code",
   "execution_count": 2,
   "metadata": {},
   "outputs": [
    {
     "name": "stdout",
     "output_type": "stream",
     "text": [
      "Train data shape:  (49000, 3073)\n",
      "Train labels shape:  (49000,)\n",
      "Validation data shape:  (1000, 3073)\n",
      "Validation labels shape:  (1000,)\n",
      "Test data shape:  (1000, 3073)\n",
      "Test labels shape:  (1000,)\n",
      "dev data shape:  (500, 3073)\n",
      "dev labels shape:  (500,)\n"
     ]
    }
   ],
   "source": [
    "def get_CIFAR10_data(num_training=49000, num_validation=1000, num_test=1000, num_dev=500):\n",
    "    \"\"\"\n",
    "    Load the CIFAR-10 dataset from disk and perform preprocessing to prepare\n",
    "    it for the linear classifier. These are the same steps as we used for the\n",
    "    SVM, but condensed to a single function.  \n",
    "    \"\"\"\n",
    "    # Load the raw CIFAR-10 data\n",
    "    cifar10_dir = 'cs231n/datasets/cifar-10-batches-py'\n",
    "    X_train, y_train, X_test, y_test = load_CIFAR10(cifar10_dir)\n",
    "    \n",
    "    # subsample the data\n",
    "    mask = list(range(num_training, num_training + num_validation))\n",
    "    X_val = X_train[mask]\n",
    "    y_val = y_train[mask]\n",
    "    mask = list(range(num_training))\n",
    "    X_train = X_train[mask]\n",
    "    y_train = y_train[mask]\n",
    "    mask = list(range(num_test))\n",
    "    X_test = X_test[mask]\n",
    "    y_test = y_test[mask]\n",
    "    mask = np.random.choice(num_training, num_dev, replace=False)\n",
    "    X_dev = X_train[mask]\n",
    "    y_dev = y_train[mask]\n",
    "    \n",
    "    # Preprocessing: reshape the image data into rows\n",
    "    X_train = np.reshape(X_train, (X_train.shape[0], -1))\n",
    "    X_val = np.reshape(X_val, (X_val.shape[0], -1))\n",
    "    X_test = np.reshape(X_test, (X_test.shape[0], -1))\n",
    "    X_dev = np.reshape(X_dev, (X_dev.shape[0], -1))\n",
    "    \n",
    "    # Normalize the data: subtract the mean image\n",
    "    mean_image = np.mean(X_train, axis = 0)\n",
    "    X_train -= mean_image\n",
    "    X_val -= mean_image\n",
    "    X_test -= mean_image\n",
    "    X_dev -= mean_image\n",
    "    \n",
    "    # add bias dimension and transform into columns\n",
    "    X_train = np.hstack([X_train, np.ones((X_train.shape[0], 1))])\n",
    "    X_val = np.hstack([X_val, np.ones((X_val.shape[0], 1))])\n",
    "    X_test = np.hstack([X_test, np.ones((X_test.shape[0], 1))])\n",
    "    X_dev = np.hstack([X_dev, np.ones((X_dev.shape[0], 1))])\n",
    "    \n",
    "    return X_train, y_train, X_val, y_val, X_test, y_test, X_dev, y_dev\n",
    "\n",
    "\n",
    "# Invoke the above function to get our data.\n",
    "X_train, y_train, X_val, y_val, X_test, y_test, X_dev, y_dev = get_CIFAR10_data()\n",
    "print('Train data shape: ', X_train.shape)\n",
    "print('Train labels shape: ', y_train.shape)\n",
    "print('Validation data shape: ', X_val.shape)\n",
    "print('Validation labels shape: ', y_val.shape)\n",
    "print('Test data shape: ', X_test.shape)\n",
    "print('Test labels shape: ', y_test.shape)\n",
    "print('dev data shape: ', X_dev.shape)\n",
    "print('dev labels shape: ', y_dev.shape)"
   ]
  },
  {
   "cell_type": "markdown",
   "metadata": {},
   "source": [
    "## Softmax Classifier\n",
    "\n",
    "Your code for this section will all be written inside **cs231n/classifiers/softmax.py**. \n"
   ]
  },
  {
   "cell_type": "code",
   "execution_count": 17,
   "metadata": {},
   "outputs": [
    {
     "name": "stdout",
     "output_type": "stream",
     "text": [
      "loss: 2.366477\n",
      "sanity check: 2.302585\n"
     ]
    }
   ],
   "source": [
    "# First implement the naive softmax loss function with nested loops.\n",
    "# Open the file cs231n/classifiers/softmax.py and implement the\n",
    "# softmax_loss_naive function.\n",
    "\n",
    "from cs231n.classifiers.softmax import softmax_loss_naive\n",
    "import time\n",
    "\n",
    "# Generate a random softmax weight matrix and use it to compute the loss.\n",
    "W = np.random.randn(3073, 10) * 0.0001\n",
    "loss, grad = softmax_loss_naive(W, X_dev, y_dev, 0.0)\n",
    "\n",
    "# As a rough sanity check, our loss should be something close to -log(0.1).\n",
    "print('loss: %f' % loss)\n",
    "print('sanity check: %f' % (-np.log(0.1)))"
   ]
  },
  {
   "cell_type": "markdown",
   "metadata": {},
   "source": [
    "## Inline Question 1:\n",
    "Why do we expect our loss to be close to -log(0.1)? Explain briefly.**\n",
    "\n",
    "**Your answer:** *Fill this in*\n"
   ]
  },
  {
   "cell_type": "code",
   "execution_count": 18,
   "metadata": {},
   "outputs": [
    {
     "name": "stdout",
     "output_type": "stream",
     "text": [
      "numerical: 0.915283 analytic: 0.915283, relative error: 2.521765e-08\n",
      "numerical: -0.850758 analytic: -0.850758, relative error: 1.494688e-08\n",
      "numerical: -3.633544 analytic: -3.633544, relative error: 8.143475e-09\n",
      "numerical: -0.296809 analytic: -0.296809, relative error: 3.827415e-08\n",
      "numerical: 0.366087 analytic: 0.366087, relative error: 4.183957e-09\n",
      "numerical: 1.831331 analytic: 1.831331, relative error: 1.860796e-08\n",
      "numerical: -0.481056 analytic: -0.481056, relative error: 9.021810e-08\n",
      "numerical: -0.958826 analytic: -0.958826, relative error: 2.851687e-08\n",
      "numerical: 1.516747 analytic: 1.516747, relative error: 4.452597e-09\n",
      "numerical: 3.256177 analytic: 3.256177, relative error: 2.110982e-08\n",
      "numerical: 1.627981 analytic: 1.627981, relative error: 1.407509e-08\n",
      "numerical: 4.349817 analytic: 4.349817, relative error: 1.044721e-08\n",
      "numerical: -2.411926 analytic: -2.411926, relative error: 1.471639e-08\n",
      "numerical: -2.748451 analytic: -2.748451, relative error: 1.405623e-08\n",
      "numerical: -5.400227 analytic: -5.400227, relative error: 1.494804e-09\n",
      "numerical: 2.747541 analytic: 2.747541, relative error: 6.413949e-09\n",
      "numerical: 0.886108 analytic: 0.886108, relative error: 3.239424e-08\n",
      "numerical: 0.225716 analytic: 0.225716, relative error: 1.769116e-07\n",
      "numerical: 0.164962 analytic: 0.164962, relative error: 8.685519e-08\n",
      "numerical: -2.365637 analytic: -2.365637, relative error: 5.905471e-09\n"
     ]
    }
   ],
   "source": [
    "# Complete the implementation of softmax_loss_naive and implement a (naive)\n",
    "# version of the gradient that uses nested loops.\n",
    "loss, grad = softmax_loss_naive(W, X_dev, y_dev, 0.0)\n",
    "\n",
    "# As we did for the SVM, use numeric gradient checking as a debugging tool.\n",
    "# The numeric gradient should be close to the analytic gradient.\n",
    "from cs231n.gradient_check import grad_check_sparse\n",
    "f = lambda w: softmax_loss_naive(w, X_dev, y_dev, 0.0)[0]\n",
    "grad_numerical = grad_check_sparse(f, W, grad, 10)\n",
    "\n",
    "# similar to SVM case, do another gradient check with regularization\n",
    "loss, grad = softmax_loss_naive(W, X_dev, y_dev, 5e1)\n",
    "f = lambda w: softmax_loss_naive(w, X_dev, y_dev, 5e1)[0]\n",
    "grad_numerical = grad_check_sparse(f, W, grad, 10)"
   ]
  },
  {
   "cell_type": "code",
   "execution_count": 20,
   "metadata": {},
   "outputs": [
    {
     "name": "stdout",
     "output_type": "stream",
     "text": [
      "naive loss: 2.366477e+00 computed in 0.067680s\n",
      "vectorized loss: 2.366477e+00 computed in 0.011017s\n",
      "Loss difference: 0.000000\n",
      "Gradient difference: 0.000000\n"
     ]
    }
   ],
   "source": [
    "# Now that we have a naive implementation of the softmax loss function and its gradient,\n",
    "# implement a vectorized version in softmax_loss_vectorized.\n",
    "# The two versions should compute the same results, but the vectorized version should be\n",
    "# much faster.\n",
    "tic = time.time()\n",
    "loss_naive, grad_naive = softmax_loss_naive(W, X_dev, y_dev, 0.000005)\n",
    "toc = time.time()\n",
    "print('naive loss: %e computed in %fs' % (loss_naive, toc - tic))\n",
    "\n",
    "from cs231n.classifiers.softmax import softmax_loss_vectorized\n",
    "tic = time.time()\n",
    "loss_vectorized, grad_vectorized = softmax_loss_vectorized(W, X_dev, y_dev, 0.000005)\n",
    "toc = time.time()\n",
    "print('vectorized loss: %e computed in %fs' % (loss_vectorized, toc - tic))\n",
    "\n",
    "# As we did for the SVM, we use the Frobenius norm to compare the two versions\n",
    "# of the gradient.\n",
    "grad_difference = np.linalg.norm(grad_naive - grad_vectorized, ord='fro')\n",
    "print('Loss difference: %f' % np.abs(loss_naive - loss_vectorized))\n",
    "print('Gradient difference: %f' % grad_difference)"
   ]
  },
  {
   "cell_type": "code",
   "execution_count": 21,
   "metadata": {},
   "outputs": [
    {
     "name": "stderr",
     "output_type": "stream",
     "text": [
      "Z:\\yzc\\cs231n\\assignment1\\cs231n\\classifiers\\softmax.py:87: RuntimeWarning: divide by zero encountered in log\n",
      "  loss = np.sum(-np.log(prob[np.arange(num_data),y]))\n"
     ]
    },
    {
     "name": "stdout",
     "output_type": "stream",
     "text": [
      "lr 1.000000e-07 reg 2.500000e+04 train accuracy: 0.259571 val accuracy: 0.269000\n",
      "lr 1.000000e-07 reg 3.000000e+04 train accuracy: 0.282184 val accuracy: 0.280000\n",
      "lr 1.000000e-07 reg 3.500000e+04 train accuracy: 0.295673 val accuracy: 0.296000\n",
      "lr 1.000000e-07 reg 4.000000e+04 train accuracy: 0.296224 val accuracy: 0.283000\n",
      "lr 1.000000e-07 reg 4.500000e+04 train accuracy: 0.306286 val accuracy: 0.308000\n",
      "lr 1.000000e-07 reg 5.000000e+04 train accuracy: 0.308755 val accuracy: 0.316000\n",
      "lr 5.000000e-07 reg 2.500000e+04 train accuracy: 0.345286 val accuracy: 0.348000\n",
      "lr 5.000000e-07 reg 3.000000e+04 train accuracy: 0.344224 val accuracy: 0.353000\n",
      "lr 5.000000e-07 reg 3.500000e+04 train accuracy: 0.342653 val accuracy: 0.359000\n",
      "lr 5.000000e-07 reg 4.000000e+04 train accuracy: 0.337592 val accuracy: 0.345000\n",
      "lr 5.000000e-07 reg 4.500000e+04 train accuracy: 0.320633 val accuracy: 0.332000\n",
      "lr 5.000000e-07 reg 5.000000e+04 train accuracy: 0.320122 val accuracy: 0.337000\n",
      "lr 1.000000e-06 reg 2.500000e+04 train accuracy: 0.348122 val accuracy: 0.345000\n",
      "lr 1.000000e-06 reg 3.000000e+04 train accuracy: 0.344694 val accuracy: 0.355000\n",
      "lr 1.000000e-06 reg 3.500000e+04 train accuracy: 0.334122 val accuracy: 0.340000\n",
      "lr 1.000000e-06 reg 4.000000e+04 train accuracy: 0.326306 val accuracy: 0.340000\n",
      "lr 1.000000e-06 reg 4.500000e+04 train accuracy: 0.329755 val accuracy: 0.332000\n",
      "lr 1.000000e-06 reg 5.000000e+04 train accuracy: 0.322061 val accuracy: 0.352000\n",
      "lr 5.000000e-06 reg 2.500000e+04 train accuracy: 0.222980 val accuracy: 0.229000\n",
      "lr 5.000000e-06 reg 3.000000e+04 train accuracy: 0.229041 val accuracy: 0.223000\n",
      "lr 5.000000e-06 reg 3.500000e+04 train accuracy: 0.274306 val accuracy: 0.267000\n",
      "lr 5.000000e-06 reg 4.000000e+04 train accuracy: 0.212755 val accuracy: 0.224000\n",
      "lr 5.000000e-06 reg 4.500000e+04 train accuracy: 0.219122 val accuracy: 0.224000\n",
      "lr 5.000000e-06 reg 5.000000e+04 train accuracy: 0.208408 val accuracy: 0.209000\n",
      "lr 1.000000e-05 reg 2.500000e+04 train accuracy: 0.172592 val accuracy: 0.172000\n",
      "lr 1.000000e-05 reg 3.000000e+04 train accuracy: 0.144571 val accuracy: 0.131000\n",
      "lr 1.000000e-05 reg 3.500000e+04 train accuracy: 0.097224 val accuracy: 0.098000\n",
      "lr 1.000000e-05 reg 4.000000e+04 train accuracy: 0.163286 val accuracy: 0.167000\n",
      "lr 1.000000e-05 reg 4.500000e+04 train accuracy: 0.165653 val accuracy: 0.165000\n",
      "lr 1.000000e-05 reg 5.000000e+04 train accuracy: 0.154816 val accuracy: 0.152000\n",
      "lr 5.000000e-05 reg 2.500000e+04 train accuracy: 0.106163 val accuracy: 0.120000\n",
      "lr 5.000000e-05 reg 3.000000e+04 train accuracy: 0.092980 val accuracy: 0.088000\n",
      "lr 5.000000e-05 reg 3.500000e+04 train accuracy: 0.081796 val accuracy: 0.079000\n",
      "lr 5.000000e-05 reg 4.000000e+04 train accuracy: 0.102347 val accuracy: 0.114000\n",
      "lr 5.000000e-05 reg 4.500000e+04 train accuracy: 0.069714 val accuracy: 0.075000\n",
      "lr 5.000000e-05 reg 5.000000e+04 train accuracy: 0.086755 val accuracy: 0.073000\n",
      "best validation accuracy achieved during cross-validation: 0.359000\n"
     ]
    }
   ],
   "source": [
    "# Use the validation set to tune hyperparameters (regularization strength and\n",
    "# learning rate). You should experiment with different ranges for the learning\n",
    "# rates and regularization strengths; if you are careful you should be able to\n",
    "# get a classification accuracy of over 0.35 on the validation set.\n",
    "from cs231n.classifiers import Softmax\n",
    "results = {}\n",
    "best_val = -1\n",
    "best_softmax = None\n",
    "learning_rates = [1e-7, 5e-7, 1e-6, 5e-6,1e-5, 5e-5]\n",
    "regularization_strengths = [2.5e4, 3e4, 3.5e4, 4e4, 4.5e4, 5e4]\n",
    "\n",
    "################################################################################\n",
    "# TODO:                                                                        #\n",
    "# Use the validation set to set the learning rate and regularization strength. #\n",
    "# This should be identical to the validation that you did for the SVM; save    #\n",
    "# the best trained softmax classifer in best_softmax.                          #\n",
    "################################################################################\n",
    "for learning_rate_ in learning_rates:\n",
    "    for reg_ in regularization_strengths:\n",
    "        softmax = Softmax()\n",
    "        softmax.train(X_train, y_train, learning_rate=learning_rate_, \n",
    "                  reg=reg_, num_iters=500)\n",
    "        y_train_pred = softmax.predict(X_train)\n",
    "        acc_train = np.mean(y_train == y_train_pred)\n",
    "        y_val_pred = softmax.predict(X_val)\n",
    "        acc_val = np.mean(y_val == y_val_pred)\n",
    "        results[(learning_rate_, reg_)] = (acc_train, acc_val)\n",
    "        if(acc_val>best_val):\n",
    "            best_val = acc_val\n",
    "            best_svm = softmax\n",
    "################################################################################\n",
    "#                              END OF YOUR CODE                                #\n",
    "################################################################################\n",
    "    \n",
    "# Print out results.\n",
    "for lr, reg in sorted(results):\n",
    "    train_accuracy, val_accuracy = results[(lr, reg)]\n",
    "    print('lr %e reg %e train accuracy: %f val accuracy: %f' % (\n",
    "                lr, reg, train_accuracy, val_accuracy))\n",
    "    \n",
    "print('best validation accuracy achieved during cross-validation: %f' % best_val)"
   ]
  },
  {
   "cell_type": "code",
   "execution_count": 25,
   "metadata": {},
   "outputs": [
    {
     "name": "stdout",
     "output_type": "stream",
     "text": [
      "softmax on raw pixels final test set accuracy: 0.346000\n"
     ]
    }
   ],
   "source": [
    "# evaluate on test set\n",
    "# Evaluate the best softmax on test set\n",
    "y_test_pred = best_svm.predict(X_test)\n",
    "test_accuracy = np.mean(y_test == y_test_pred)\n",
    "print('softmax on raw pixels final test set accuracy: %f' % (test_accuracy, ))"
   ]
  },
  {
   "cell_type": "code",
   "execution_count": 27,
   "metadata": {},
   "outputs": [
    {
     "data": {
      "image/png": "[encoded data removed]",
      "text/plain": [
       "<Figure size 432x288 with 10 Axes>"
      ]
     },
     "metadata": {},
     "output_type": "display_data"
    }
   ],
   "source": [
    "# Visualize the learned weights for each class\n",
    "w = best_svm.W[:-1,:] # strip out the bias\n",
    "w = w.reshape(32, 32, 3, 10)\n",
    "\n",
    "w_min, w_max = np.min(w), np.max(w)\n",
    "\n",
    "classes = ['plane', 'car', 'bird', 'cat', 'deer', 'dog', 'frog', 'horse', 'ship', 'truck']\n",
    "for i in range(10):\n",
    "    plt.subplot(2, 5, i + 1)\n",
    "    \n",
    "    # Rescale the weights to be between 0 and 255\n",
    "    wimg = 255.0 * (w[:, :, :, i].squeeze() - w_min) / (w_max - w_min)\n",
    "    plt.imshow(wimg.astype('uint8'))\n",
    "    plt.axis('off')\n",
    "    plt.title(classes[i])"
   ]
  }
 ],
 "metadata": {
  "kernelspec": {
   "display_name": "Python 3",
   "language": "python",
   "name": "python3"
  },
  "language_info": {
   "codemirror_mode": {
    "name": "ipython",
    "version": 3
   },
   "file_extension": ".py",
   "mimetype": "text/x-python",
   "name": "python",
   "nbconvert_exporter": "python",
   "pygments_lexer": "ipython3",
   "version": "3.6.2rc1"
  }
 },
 "nbformat": 4,
 "nbformat_minor": 1
}
